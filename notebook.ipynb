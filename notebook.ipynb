{
 "cells": [
  {
   "cell_type": "code",
   "execution_count": null,
   "metadata": {},
   "outputs": [
    {
     "data": {
      "text/plain": [
       "Traceback (most recent call last):\n",
       "  File \"/Users/iskander/.vscode/extensions/ms-python.python-2025.2.0-darwin-x64/python_files/python_server.py\", line 133, in exec_user_input\n",
       "    retval = callable_(user_input, user_globals)\n",
       "  File \"<string>\", line 8, in <module>\n",
       "  File \"/Users/iskander/Downloads/Projet avec Streamlit/.venv/lib/python3.13/site-packages/pandas/io/parsers/readers.py\", line 1026, in read_csv\n",
       "    return _read(filepath_or_buffer, kwds)\n",
       "  File \"/Users/iskander/Downloads/Projet avec Streamlit/.venv/lib/python3.13/site-packages/pandas/io/parsers/readers.py\", line 620, in _read\n",
       "    parser = TextFileReader(filepath_or_buffer, **kwds)\n",
       "  File \"/Users/iskander/Downloads/Projet avec Streamlit/.venv/lib/python3.13/site-packages/pandas/io/parsers/readers.py\", line 1620, in __init__\n",
       "    self._engine = self._make_engine(f, self.engine)\n",
       "                   ~~~~~~~~~~~~~~~~~^^^^^^^^^^^^^^^^\n",
       "  File \"/Users/iskander/Downloads/Projet avec Streamlit/.venv/lib/python3.13/site-packages/pandas/io/parsers/readers.py\", line 1880, in _make_engine\n",
       "    self.handles = get_handle(\n",
       "                   ~~~~~~~~~~^\n",
       "        f,\n",
       "        ^^\n",
       "    ...<6 lines>...\n",
       "        storage_options=self.options.get(\"storage_options\", None),\n",
       "        ^^^^^^^^^^^^^^^^^^^^^^^^^^^^^^^^^^^^^^^^^^^^^^^^^^^^^^^^^^\n",
       "    )\n",
       "    ^\n",
       "  File \"/Users/iskander/Downloads/Projet avec Streamlit/.venv/lib/python3.13/site-packages/pandas/io/common.py\", line 873, in get_handle\n",
       "    handle = open(\n",
       "        handle,\n",
       "    ...<3 lines>...\n",
       "        newline=\"\",\n",
       "    )\n",
       "FileNotFoundError: [Errno 2] No such file or directory: 'credit_risk_dataset_transformed.csv'\n",
       "\n"
      ]
     },
     "metadata": {},
     "output_type": "display_data"
    }
   ],
   "source": [
    "import pandas as pd\n",
    "import matplotlib.pyplot as plt\n",
    "from sklearn.linear_model import LogisticRegression\n",
    "from sklearn.model_selection import train_test_split\n",
    "from sklearn.metrics import classification_report\n",
    "\n",
    "# Charger les données\n",
    "df = pd.read_csv('dataset.csv')\n",
    "\n",
    "# Exploration des données\n",
    "df.head()\n",
    "df.describe()\n",
    "\n",
    "# Prétraitement des données\n",
    "df['home_ownership'] = df['home_ownership'].map({'RENT': 0, 'MORTGAGE': 1, 'OWN': 2, 'OTHER': 3})\n",
    "\n",
    "# Séparation des caractéristiques et de la cible\n",
    "X = df.drop('loan_status', axis=1)\n",
    "y = df['loan_status']\n",
    "\n",
    "# Division en ensembles d'entraînement et de test\n",
    "X_train, X_test, y_train, y_test = train_test_split(X, y, test_size=0.2, random_state=42)\n",
    "\n",
    "# Entraînement du modèle\n",
    "model = LogisticRegression(max_iter=1000)\n",
    "model.fit(X_train, y_train)\n",
    "\n",
    "# Évaluation du modèle\n",
    "y_pred = model.predict(X_test)\n",
    "print(classification_report(y_test, y_pred))\n",
    "\n",
    "# Sauvegarder le modèle\n",
    "import joblib\n",
    "joblib.dump(model, 'model.joblib')\n"
   ]
  },
  {
   "cell_type": "code",
   "execution_count": null,
   "metadata": {},
   "outputs": [],
   "source": [
    "# Visualisation de la distribution de l'âge des clients\n",
    "plt.hist(df['person_age'], bins=20, color='skyblue')\n",
    "plt.title('Distribution des âges des clients')\n",
    "plt.xlabel('Âge')\n",
    "plt.ylabel('Fréquence')\n",
    "plt.savefig('images/age_distribution.png')\n",
    "plt.show()\n"
   ]
  }
 ],
 "metadata": {
  "language_info": {
   "name": "python"
  }
 },
 "nbformat": 4,
 "nbformat_minor": 2
}
